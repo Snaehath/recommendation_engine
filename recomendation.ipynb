{
 "cells": [
  {
   "cell_type": "code",
   "execution_count": 130,
   "metadata": {},
   "outputs": [],
   "source": [
    "import pandas as pd"
   ]
  },
  {
   "cell_type": "code",
   "execution_count": 131,
   "metadata": {},
   "outputs": [
    {
     "data": {
      "text/plain": [
       "Index(['index', 'budget', 'genres', 'homepage', 'id', 'keywords',\n",
       "       'original_language', 'original_title', 'overview', 'popularity',\n",
       "       'production_companies', 'production_countries', 'release_date',\n",
       "       'revenue', 'runtime', 'spoken_languages', 'status', 'tagline', 'title',\n",
       "       'vote_average', 'vote_count', 'cast', 'crew', 'director'],\n",
       "      dtype='object')"
      ]
     },
     "execution_count": 131,
     "metadata": {},
     "output_type": "execute_result"
    }
   ],
   "source": [
    "df = pd.read_csv(\"movie_dataset.csv\")\n",
    "df.columns"
   ]
  },
  {
   "cell_type": "code",
   "execution_count": 132,
   "metadata": {},
   "outputs": [
    {
     "data": {
      "text/html": [
       "<div>\n",
       "<style scoped>\n",
       "    .dataframe tbody tr th:only-of-type {\n",
       "        vertical-align: middle;\n",
       "    }\n",
       "\n",
       "    .dataframe tbody tr th {\n",
       "        vertical-align: top;\n",
       "    }\n",
       "\n",
       "    .dataframe thead th {\n",
       "        text-align: right;\n",
       "    }\n",
       "</style>\n",
       "<table border=\"1\" class=\"dataframe\">\n",
       "  <thead>\n",
       "    <tr style=\"text-align: right;\">\n",
       "      <th></th>\n",
       "      <th>original_title</th>\n",
       "      <th>director</th>\n",
       "      <th>genres</th>\n",
       "      <th>cast</th>\n",
       "    </tr>\n",
       "  </thead>\n",
       "  <tbody>\n",
       "    <tr>\n",
       "      <th>0</th>\n",
       "      <td>Avatar</td>\n",
       "      <td>James Cameron</td>\n",
       "      <td>Action Adventure Fantasy Science Fiction</td>\n",
       "      <td>Sam Worthington Zoe Saldana Sigourney Weaver S...</td>\n",
       "    </tr>\n",
       "    <tr>\n",
       "      <th>1</th>\n",
       "      <td>Pirates of the Caribbean: At World's End</td>\n",
       "      <td>Gore Verbinski</td>\n",
       "      <td>Adventure Fantasy Action</td>\n",
       "      <td>Johnny Depp Orlando Bloom Keira Knightley Stel...</td>\n",
       "    </tr>\n",
       "    <tr>\n",
       "      <th>2</th>\n",
       "      <td>Spectre</td>\n",
       "      <td>Sam Mendes</td>\n",
       "      <td>Action Adventure Crime</td>\n",
       "      <td>Daniel Craig Christoph Waltz L\\u00e9a Seydoux ...</td>\n",
       "    </tr>\n",
       "    <tr>\n",
       "      <th>3</th>\n",
       "      <td>The Dark Knight Rises</td>\n",
       "      <td>Christopher Nolan</td>\n",
       "      <td>Action Crime Drama Thriller</td>\n",
       "      <td>Christian Bale Michael Caine Gary Oldman Anne ...</td>\n",
       "    </tr>\n",
       "    <tr>\n",
       "      <th>4</th>\n",
       "      <td>John Carter</td>\n",
       "      <td>Andrew Stanton</td>\n",
       "      <td>Action Adventure Science Fiction</td>\n",
       "      <td>Taylor Kitsch Lynn Collins Samantha Morton Wil...</td>\n",
       "    </tr>\n",
       "    <tr>\n",
       "      <th>...</th>\n",
       "      <td>...</td>\n",
       "      <td>...</td>\n",
       "      <td>...</td>\n",
       "      <td>...</td>\n",
       "    </tr>\n",
       "    <tr>\n",
       "      <th>4798</th>\n",
       "      <td>El Mariachi</td>\n",
       "      <td>Robert Rodriguez</td>\n",
       "      <td>Action Crime Thriller</td>\n",
       "      <td>Carlos Gallardo Jaime de Hoyos Peter Marquardt...</td>\n",
       "    </tr>\n",
       "    <tr>\n",
       "      <th>4799</th>\n",
       "      <td>Newlyweds</td>\n",
       "      <td>Edward Burns</td>\n",
       "      <td>Comedy Romance</td>\n",
       "      <td>Edward Burns Kerry Bish\\u00e9 Marsha Dietlein ...</td>\n",
       "    </tr>\n",
       "    <tr>\n",
       "      <th>4800</th>\n",
       "      <td>Signed, Sealed, Delivered</td>\n",
       "      <td>Scott Smith</td>\n",
       "      <td>Comedy Drama Romance TV Movie</td>\n",
       "      <td>Eric Mabius Kristin Booth Crystal Lowe Geoff G...</td>\n",
       "    </tr>\n",
       "    <tr>\n",
       "      <th>4801</th>\n",
       "      <td>Shanghai Calling</td>\n",
       "      <td>Daniel Hsia</td>\n",
       "      <td>NaN</td>\n",
       "      <td>Daniel Henney Eliza Coupe Bill Paxton Alan Ruc...</td>\n",
       "    </tr>\n",
       "    <tr>\n",
       "      <th>4802</th>\n",
       "      <td>My Date with Drew</td>\n",
       "      <td>Brian Herzlinger</td>\n",
       "      <td>Documentary</td>\n",
       "      <td>Drew Barrymore Brian Herzlinger Corey Feldman ...</td>\n",
       "    </tr>\n",
       "  </tbody>\n",
       "</table>\n",
       "<p>4803 rows × 4 columns</p>\n",
       "</div>"
      ],
      "text/plain": [
       "                                original_title           director  \\\n",
       "0                                       Avatar      James Cameron   \n",
       "1     Pirates of the Caribbean: At World's End     Gore Verbinski   \n",
       "2                                      Spectre         Sam Mendes   \n",
       "3                        The Dark Knight Rises  Christopher Nolan   \n",
       "4                                  John Carter     Andrew Stanton   \n",
       "...                                        ...                ...   \n",
       "4798                               El Mariachi   Robert Rodriguez   \n",
       "4799                                 Newlyweds       Edward Burns   \n",
       "4800                 Signed, Sealed, Delivered        Scott Smith   \n",
       "4801                          Shanghai Calling        Daniel Hsia   \n",
       "4802                         My Date with Drew   Brian Herzlinger   \n",
       "\n",
       "                                        genres  \\\n",
       "0     Action Adventure Fantasy Science Fiction   \n",
       "1                     Adventure Fantasy Action   \n",
       "2                       Action Adventure Crime   \n",
       "3                  Action Crime Drama Thriller   \n",
       "4             Action Adventure Science Fiction   \n",
       "...                                        ...   \n",
       "4798                     Action Crime Thriller   \n",
       "4799                            Comedy Romance   \n",
       "4800             Comedy Drama Romance TV Movie   \n",
       "4801                                       NaN   \n",
       "4802                               Documentary   \n",
       "\n",
       "                                                   cast  \n",
       "0     Sam Worthington Zoe Saldana Sigourney Weaver S...  \n",
       "1     Johnny Depp Orlando Bloom Keira Knightley Stel...  \n",
       "2     Daniel Craig Christoph Waltz L\\u00e9a Seydoux ...  \n",
       "3     Christian Bale Michael Caine Gary Oldman Anne ...  \n",
       "4     Taylor Kitsch Lynn Collins Samantha Morton Wil...  \n",
       "...                                                 ...  \n",
       "4798  Carlos Gallardo Jaime de Hoyos Peter Marquardt...  \n",
       "4799  Edward Burns Kerry Bish\\u00e9 Marsha Dietlein ...  \n",
       "4800  Eric Mabius Kristin Booth Crystal Lowe Geoff G...  \n",
       "4801  Daniel Henney Eliza Coupe Bill Paxton Alan Ruc...  \n",
       "4802  Drew Barrymore Brian Herzlinger Corey Feldman ...  \n",
       "\n",
       "[4803 rows x 4 columns]"
      ]
     },
     "execution_count": 132,
     "metadata": {},
     "output_type": "execute_result"
    }
   ],
   "source": [
    "req = df[{'original_title','director','genres','cast'}]\n",
    "features = ['original_title','director','genres','cast']\n",
    "\n",
    "req"
   ]
  },
  {
   "cell_type": "code",
   "execution_count": 133,
   "metadata": {},
   "outputs": [],
   "source": [
    "# covert into single string\n",
    "def combine_features(row):\n",
    "    return row['cast']+' '+row['director']"
   ]
  },
  {
   "cell_type": "code",
   "execution_count": 134,
   "metadata": {},
   "outputs": [
    {
     "data": {
      "text/plain": [
       "0       Sam Worthington Zoe Saldana Sigourney Weaver S...\n",
       "1       Johnny Depp Orlando Bloom Keira Knightley Stel...\n",
       "2       Daniel Craig Christoph Waltz L\\u00e9a Seydoux ...\n",
       "3       Christian Bale Michael Caine Gary Oldman Anne ...\n",
       "4       Taylor Kitsch Lynn Collins Samantha Morton Wil...\n",
       "                              ...                        \n",
       "4798    Carlos Gallardo Jaime de Hoyos Peter Marquardt...\n",
       "4799    Edward Burns Kerry Bish\\u00e9 Marsha Dietlein ...\n",
       "4800    Eric Mabius Kristin Booth Crystal Lowe Geoff G...\n",
       "4801    Daniel Henney Eliza Coupe Bill Paxton Alan Ruc...\n",
       "4802    Drew Barrymore Brian Herzlinger Corey Feldman ...\n",
       "Name: combine_features, Length: 4803, dtype: object"
      ]
     },
     "execution_count": 134,
     "metadata": {},
     "output_type": "execute_result"
    }
   ],
   "source": [
    "# Preprocessing\n",
    "for feature in features:\n",
    "    df[feature] = df[feature].fillna('') \n",
    "df['combine_features'] = df.apply(combine_features,axis=1)\n",
    "df['combine_features']"
   ]
  },
  {
   "cell_type": "code",
   "execution_count": 135,
   "metadata": {},
   "outputs": [],
   "source": [
    "from sklearn.feature_extraction.text import CountVectorizer\n",
    "\n",
    "cv = CountVectorizer()\n",
    "matrix = cv.fit_transform(df['combine_features'])\n",
    "\n",
    "from sklearn.metrics.pairwise import cosine_similarity\n",
    "cosine_sim = cosine_similarity(matrix)\n"
   ]
  },
  {
   "cell_type": "code",
   "execution_count": 136,
   "metadata": {},
   "outputs": [],
   "source": [
    "def get_title_from_index(index):\n",
    "    return df[df.index == index]['original_title'].values[0]\n",
    "def get_index_from_title(title):\n",
    "    return df[df.title == title]['index'].values[0]"
   ]
  },
  {
   "cell_type": "code",
   "execution_count": 139,
   "metadata": {},
   "outputs": [
    {
     "data": {
      "text/plain": [
       "3"
      ]
     },
     "execution_count": 139,
     "metadata": {},
     "output_type": "execute_result"
    }
   ],
   "source": [
    "movie_user_likes = \"The Dark Knight Rises\"\n",
    "movie_index = get_index_from_title(movie_user_likes)\n",
    "similar_movies =  list(enumerate(cosine_sim[movie_index]))\n",
    "\n",
    "sorted_similar_movies = sorted(similar_movies,key=lambda x:x[1],reverse=True)[1:]\n",
    "\n",
    "movie_index"
   ]
  },
  {
   "cell_type": "code",
   "execution_count": 140,
   "metadata": {},
   "outputs": [
    {
     "name": "stdout",
     "output_type": "stream",
     "text": [
      "Top 5 similar movies to The Dark Knight Rises are:\n",
      "\n",
      "Batman Begins\n",
      "The Dark Knight\n",
      "Interstellar\n",
      "The Prestige\n",
      "Child 44\n",
      "True Romance\n",
      "Inception\n",
      "The Other Side of Heaven\n",
      "Public Enemies\n",
      "Atlantis: The Lost Empire\n"
     ]
    }
   ],
   "source": [
    "i=0\n",
    "print(\"Top 5 similar movies to \"+movie_user_likes+\" are:\\n\")\n",
    "for element in sorted_similar_movies:\n",
    "    print(get_title_from_index(element[0]))\n",
    "    i+=1\n",
    "    if i>=10:\n",
    "        break"
   ]
  }
 ],
 "metadata": {
  "kernelspec": {
   "display_name": "base",
   "language": "python",
   "name": "python3"
  },
  "language_info": {
   "codemirror_mode": {
    "name": "ipython",
    "version": 3
   },
   "file_extension": ".py",
   "mimetype": "text/x-python",
   "name": "python",
   "nbconvert_exporter": "python",
   "pygments_lexer": "ipython3",
   "version": "3.9.7"
  },
  "orig_nbformat": 4
 },
 "nbformat": 4,
 "nbformat_minor": 2
}
